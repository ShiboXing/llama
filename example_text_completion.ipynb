{
 "cells": [
  {
   "cell_type": "code",
   "execution_count": null,
   "metadata": {},
   "outputs": [],
   "source": [
    "# Copyright (c) Meta Platforms, Inc. and affiliates.\n",
    "# This software may be used and distributed according to the terms of the Llama 2 Community License Agreement.\n",
    "\n",
    "import fire\n",
    "\n",
    "from llama import Llama\n",
    "from typing import List\n",
    "\n",
    "def main(\n",
    "    ckpt_dir: str = \"\",\n",
    "    tokenizer_path: str = \"/ssd3/xingshibo/Llama-2-7b-chat-hf/tokenizer.model\",\n",
    "    temperature: float = 0.6,\n",
    "    top_p: float = 0.9,\n",
    "    max_seq_len: int = 128,\n",
    "    max_gen_len: int = 64,\n",
    "    max_batch_size: int = 4,\n",
    "):\n",
    "    \"\"\"\n",
    "    Entry point of the program for generating text using a pretrained model.\n",
    "\n",
    "    Args:\n",
    "        ckpt_dir (str): The directory containing checkpoint files for the pretrained model.\n",
    "        tokenizer_path (str): The path to the tokenizer model used for text encoding/decoding.\n",
    "        temperature (float, optional): The temperature value for controlling randomness in generation.\n",
    "            Defaults to 0.6.\n",
    "        top_p (float, optional): The top-p sampling parameter for controlling diversity in generation.\n",
    "            Defaults to 0.9.\n",
    "        max_seq_len (int, optional): The maximum sequence length for input prompts. Defaults to 128.\n",
    "        max_gen_len (int, optional): The maximum length of generated sequences. Defaults to 64.\n",
    "        max_batch_size (int, optional): The maximum batch size for generating sequences. Defaults to 4.\n",
    "    \"\"\" \n",
    "    generator = Llama.build(\n",
    "        ckpt_dir=ckpt_dir,\n",
    "        tokenizer_path=tokenizer_path,\n",
    "        max_seq_len=max_seq_len,\n",
    "        max_batch_size=max_batch_size,\n",
    "    )\n",
    "\n",
    "    prompts: List[str] = [\n",
    "        # For these prompts, the expected answer is the natural continuation of the prompt\n",
    "        \"I believe the meaning of life is\",\n",
    "        \"Simply put, the theory of relativity states that \",\n",
    "        \"\"\"A brief message congratulating the team on the launch:\n",
    "\n",
    "        Hi everyone,\n",
    "        \n",
    "        I just \"\"\",\n",
    "        # Few shot prompt (providing a few examples before asking model to complete more);\n",
    "        \"\"\"Translate English to French:\n",
    "        \n",
    "        sea otter => loutre de mer\n",
    "        peppermint => menthe poivrée\n",
    "        plush girafe => girafe peluche\n",
    "        cheese =>\"\"\",\n",
    "    ]\n",
    "    results = generator.text_completion(\n",
    "        prompts,\n",
    "        max_gen_len=max_gen_len,\n",
    "        temperature=temperature,\n",
    "        top_p=top_p,\n",
    "    )\n",
    "    for prompt, result in zip(prompts, results):\n",
    "        print(prompt)\n",
    "        print(f\"> {result['generation']}\")\n",
    "        print(\"\\n==================================\\n\")\n",
    "\n",
    "\n",
    "if __name__ == \"__main__\":\n",
    "    main()\n"
   ]
  },
  {
   "cell_type": "code",
   "execution_count": null,
   "metadata": {},
   "outputs": [],
   "source": [
    "%debug"
   ]
  },
  {
   "cell_type": "code",
   "execution_count": null,
   "metadata": {},
   "outputs": [],
   "source": []
  }
 ],
 "metadata": {
  "kernelspec": {
   "display_name": "pt201",
   "language": "python",
   "name": "python3"
  },
  "language_info": {
   "codemirror_mode": {
    "name": "ipython",
    "version": 3
   },
   "file_extension": ".py",
   "mimetype": "text/x-python",
   "name": "python",
   "nbconvert_exporter": "python",
   "pygments_lexer": "ipython3",
   "version": "3.8.10"
  }
 },
 "nbformat": 4,
 "nbformat_minor": 2
}
